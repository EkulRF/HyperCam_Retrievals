{
 "cells": [
  {
   "cell_type": "code",
   "execution_count": null,
   "metadata": {},
   "outputs": [],
   "source": [
    "{\n",
    "\"MODTRAN\": [\n",
    "{\n",
    "\"MODTRANINPUT\":{\n",
    "\"NAME\":input_params.get(\"output_filename\"),\n",
    "\"CASE\":0\n",
    "\"RTOPTIONS\":{\n",
    "\"IMULT\": \"RT_ISAACS_2STREAM_AT_OBS\"\n",
    "},\n",
    "\"ATMOSPHERE\":{\n",
    "\"MODEL\":\"ATM_US_STANDARD_1976,\"\n",
    "\"CO2MX\": 400.0\n",
    "},\n",
    "\"AEROSOLS\": {\n",
    "\"IHAZE\": \"AER_RURAL_DENSE\"\n",
    "},\n",
    "\"GEOMETRY\":{\n",
    "\"H1ALT\":20.0,\n",
    "\"IDAY\":1,\n",
    "\"PARM2\":60.0\n",
    "},\n",
    "\"SURFACE\":{\n",
    "\"SURREF\":0.4\n",
    "},\n",
    "\"SPECTRAL\":{\n",
    "\"LBMNAM\":\"T\",\n",
    "\"BMNAME\":\"15_2013\",\n",
    "\"V1\":input_params.get('Wav_range')[0],\n",
    "\"V2\":input_params.get('Wav_range')[1],\n",
    "\"DV\":90.0,\n",
    "\"FWHM\":90.0,\n",
    "\"YFLAG\":\"R\",\n",
    "\"XFLAG\":\"N\",\n",
    "\"FLAGS\": \"WTAA \"\n",
    "},\n",
    "\"FILEOPTIONS\":{\n",
    "\"BINARY\": true\n",
    "}\n",
    "}\n",
    "},\n",
    "{\n",
    "\"MODTRANINPUT\":{\n",
    "\"CASE\":1,\n",
    "\"CASE TEMPLATE\":0,\n",
    "\"SPECTRAL\":{\n",
    "\"BMNAME\":\"05_2013\"\n",
    "}\n",
    "}\n",
    "}\n",
    "]\n",
    "}"
   ]
  },
  {
   "cell_type": "code",
   "execution_count": null,
   "metadata": {},
   "outputs": [],
   "source": [
    "if instrument = 'CH4':\n",
    "    V1, V2 = 1205, 1350\n",
    "elif instrument = 'LW':\n",
    "    V1, V2 = 850, 1290\n",
    "else:\n",
    "    print('Bad Instrument Name!')"
   ]
  },
  {
   "cell_type": "code",
   "execution_count": null,
   "metadata": {},
   "outputs": [],
   "source": [
    "input_params = {\n",
    "    \"output_filename\": 'example',\n",
    "    \"surface_reflectance_value\": 0.2,\n",
    "    \"atmospheric_profile_type\": \"Mid-Latitude Winter\",\n",
    "    \"atmospheric_profile_start_height\": 0,\n",
    "    \"atmospheric_profile_end_height\": 70,\n",
    "    \"Wav_range\": [V1, V2],\n",
    "    \"verbose_output\": True,\n",
    "    \"user_atmospheric_model\": False\n",
    "}"
   ]
  }
 ],
 "metadata": {
  "language_info": {
   "name": "python"
  }
 },
 "nbformat": 4,
 "nbformat_minor": 2
}
